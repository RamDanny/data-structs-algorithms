{
  "nbformat": 4,
  "nbformat_minor": 0,
  "metadata": {
    "colab": {
      "provenance": []
    },
    "kernelspec": {
      "name": "python3",
      "display_name": "Python 3"
    },
    "language_info": {
      "name": "python"
    }
  },
  "cells": [
    {
      "cell_type": "code",
      "source": [
        "import networkx as nx\n",
        "import matplotlib.pyplot as plt\n",
        "\n",
        "g = nx.Graph()\n",
        "g.add_node(\"A\")\n",
        "g.add_nodes_from([\"B\", \"C\", \"D\", \"E\"])\n",
        "g.add_edge(\"A\", \"B\")\n",
        "g.add_edges_from([(\"A\", \"C\"), (\"E\", \"C\"), (\"E\", \"D\"), (\"A\", \"D\")])\n",
        "print(g.nodes)\n",
        "print(g.edges)\n",
        "\n",
        "nx.draw(g, with_labels=True)\n",
        "plt.show()"
      ],
      "metadata": {
        "colab": {
          "base_uri": "https://localhost:8080/",
          "height": 551
        },
        "id": "meGft0-aZuIk",
        "outputId": "c1c158d4-9de7-4180-9282-23b7030d0244"
      },
      "execution_count": null,
      "outputs": [
        {
          "output_type": "stream",
          "name": "stdout",
          "text": [
            "['A', 'B', 'C', 'D', 'E']\n",
            "[('A', 'B'), ('A', 'C'), ('A', 'D'), ('C', 'E'), ('D', 'E')]\n"
          ]
        },
        {
          "output_type": "display_data",
          "data": {
            "text/plain": [
              "<Figure size 640x480 with 1 Axes>"
            ],
            "image/png": "[encoded data removed]"
          },
          "metadata": {}
        }
      ]
    },
    {
      "cell_type": "code",
      "source": [
        "# Degree Centrality\n",
        "for node in g.nodes:\n",
        "    print(node, g.degree(node)/(len(g.nodes)-1))\n",
        "\n",
        "# Closeness Centrality\n",
        "adj = [[0, 1, 1, 1, 2], [1, 0, 2, 2, 3], [1, 2, 0, 2, 1], [1, 2, 2, 0, 1], [2, 3, 1, 1, 0]]\n",
        "for node in range(len(g.nodes)):\n",
        "    print(1/sum(adj[node]))\n",
        "\n",
        "# Betweenness Centrality\n"
      ],
      "metadata": {
        "colab": {
          "base_uri": "https://localhost:8080/"
        },
        "id": "TIZ5GHAGYNYj",
        "outputId": "47c7f252-d9ff-4112-c6f5-58a89328fbfa"
      },
      "execution_count": null,
      "outputs": [
        {
          "output_type": "stream",
          "name": "stdout",
          "text": [
            "A 0.75\n",
            "B 0.25\n",
            "C 0.5\n",
            "D 0.5\n",
            "E 0.5\n",
            "0.2\n",
            "0.125\n",
            "0.16666666666666666\n",
            "0.16666666666666666\n",
            "0.14285714285714285\n"
          ]
        }
      ]
    },
    {
      "cell_type": "code",
      "source": [
        "# BFS\n",
        "def bfs(graph, start):\n",
        "    node = start\n",
        "    queue = []\n",
        "    visited = []\n",
        "    while len(visited) < len(graph.nodes):\n",
        "        print(node)\n",
        "        visited.append(node)\n",
        "        for nod in graph.adj[node]:\n",
        "            if nod not in visited:\n",
        "                queue.append(nod)\n",
        "        node = queue.pop(0)\n",
        "\n",
        "# DFS\n",
        "def dfs(graph, node, visited=[]):\n",
        "    print(node)\n",
        "    visited.append(node)\n",
        "    for nod in graph.adj[node]:\n",
        "        if nod not in visited:\n",
        "            dfs(graph, nod, visited)\n",
        "\n",
        "bfs(g, \"A\")\n",
        "print()\n",
        "dfs(g, \"A\")"
      ],
      "metadata": {
        "colab": {
          "base_uri": "https://localhost:8080/"
        },
        "id": "Yy9SEougZt0H",
        "outputId": "5381cf05-1ea0-4b8c-a40c-fa75c40ffee6"
      },
      "execution_count": null,
      "outputs": [
        {
          "output_type": "stream",
          "name": "stdout",
          "text": [
            "A\n",
            "B\n",
            "C\n",
            "D\n",
            "E\n",
            "\n",
            "A\n",
            "B\n",
            "C\n",
            "E\n",
            "D\n"
          ]
        }
      ]
    },
    {
      "cell_type": "code",
      "source": [],
      "metadata": {
        "id": "upeslLd_EBV5"
      },
      "execution_count": null,
      "outputs": []
    },
    {
      "cell_type": "code",
      "source": [
        "# Trim edges for Island Method\n",
        "def trim(g, weight=1):\n",
        "    g2 = nx.Graph()\n",
        "    for i, j, edge in g.edges(data=True):\n",
        "        if edge[\"weight\"] > weight:\n",
        "            g2.add_edge(i, j, edge)\n",
        "    return g2\n",
        "\n",
        "def island(g, iter=5):\n",
        "    weights = [edge[\"weight\"] for i, j, edge in g.edges(data=True)]\n",
        "    min_wt = min(weights)\n",
        "    max_wt = max(weights)\n",
        "    step = int((max_wt - min_wt)/iter)\n",
        "    return [[lvl, trim(g, lvl)] for lvl in range(min_wt, max_wt, step)]\n",
        "\n",
        "islands = island(g, 5)\n",
        "for i in islands:\n",
        "    print(i[0], len(i[1]), len(nx.connected_component_subgraphs(i[0])))\n"
      ],
      "metadata": {
        "id": "Yc8OGcDTjsnP"
      },
      "execution_count": null,
      "outputs": []
    },
    {
      "cell_type": "code",
      "source": [],
      "metadata": {
        "id": "NGpOaiwQDWch"
      },
      "execution_count": null,
      "outputs": []
    }
  ]
}